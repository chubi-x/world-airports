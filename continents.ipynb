{
 "cells": [
  {
   "cell_type": "code",
   "execution_count": 2,
   "id": "7ae479c7-295d-4da1-b8f1-a40f6b51de34",
   "metadata": {
    "tags": []
   },
   "outputs": [],
   "source": [
    "import altair as alt\n",
    "import pandas as pd\n",
    "import numpy as np\n",
    "import re\n",
    "from vega_datasets import data"
   ]
  },
  {
   "cell_type": "code",
   "execution_count": 3,
   "id": "cd571fb8-ffa5-419e-9002-290c9393ee09",
   "metadata": {
    "tags": []
   },
   "outputs": [],
   "source": [
    "airport_url = 'csv/airports.csv'\n",
    "airports_df = pd.read_csv(airport_url, encoding='latin-1')\n"
   ]
  },
  {
   "cell_type": "code",
   "execution_count": 4,
   "id": "19f5c4e4-68cc-4db8-8d22-675f9a5aea5e",
   "metadata": {
    "tags": []
   },
   "outputs": [
    {
     "data": {
      "text/html": [
       "<div>\n",
       "<style scoped>\n",
       "    .dataframe tbody tr th:only-of-type {\n",
       "        vertical-align: middle;\n",
       "    }\n",
       "\n",
       "    .dataframe tbody tr th {\n",
       "        vertical-align: top;\n",
       "    }\n",
       "\n",
       "    .dataframe thead th {\n",
       "        text-align: right;\n",
       "    }\n",
       "</style>\n",
       "<table border=\"1\" class=\"dataframe\">\n",
       "  <thead>\n",
       "    <tr style=\"text-align: right;\">\n",
       "      <th></th>\n",
       "      <th>Airport ID</th>\n",
       "      <th>Name</th>\n",
       "      <th>City</th>\n",
       "      <th>Country</th>\n",
       "      <th>IATA</th>\n",
       "      <th>ICAO</th>\n",
       "      <th>Latitude</th>\n",
       "      <th>Longitude</th>\n",
       "      <th>Altitude</th>\n",
       "      <th>TimeZone</th>\n",
       "      <th>DST</th>\n",
       "      <th>Tz Database Time Zone</th>\n",
       "      <th>Type</th>\n",
       "      <th>Source</th>\n",
       "    </tr>\n",
       "  </thead>\n",
       "  <tbody>\n",
       "    <tr>\n",
       "      <th>0</th>\n",
       "      <td>1</td>\n",
       "      <td>Goroka Airport</td>\n",
       "      <td>Goroka</td>\n",
       "      <td>Papua New Guinea</td>\n",
       "      <td>GKA</td>\n",
       "      <td>AYGA</td>\n",
       "      <td>-6.081690</td>\n",
       "      <td>145.391998</td>\n",
       "      <td>5282</td>\n",
       "      <td>10</td>\n",
       "      <td>U</td>\n",
       "      <td>Pacific/Port_Moresby</td>\n",
       "      <td>airport</td>\n",
       "      <td>OurAirports</td>\n",
       "    </tr>\n",
       "    <tr>\n",
       "      <th>1</th>\n",
       "      <td>2</td>\n",
       "      <td>Madang Airport</td>\n",
       "      <td>Madang</td>\n",
       "      <td>Papua New Guinea</td>\n",
       "      <td>MAG</td>\n",
       "      <td>AYMD</td>\n",
       "      <td>-5.207080</td>\n",
       "      <td>145.789002</td>\n",
       "      <td>20</td>\n",
       "      <td>10</td>\n",
       "      <td>U</td>\n",
       "      <td>Pacific/Port_Moresby</td>\n",
       "      <td>airport</td>\n",
       "      <td>OurAirports</td>\n",
       "    </tr>\n",
       "    <tr>\n",
       "      <th>2</th>\n",
       "      <td>3</td>\n",
       "      <td>Mount Hagen Kagamuga Airport</td>\n",
       "      <td>Mount Hagen</td>\n",
       "      <td>Papua New Guinea</td>\n",
       "      <td>HGU</td>\n",
       "      <td>AYMH</td>\n",
       "      <td>-5.826790</td>\n",
       "      <td>144.296005</td>\n",
       "      <td>5388</td>\n",
       "      <td>10</td>\n",
       "      <td>U</td>\n",
       "      <td>Pacific/Port_Moresby</td>\n",
       "      <td>airport</td>\n",
       "      <td>OurAirports</td>\n",
       "    </tr>\n",
       "    <tr>\n",
       "      <th>3</th>\n",
       "      <td>4</td>\n",
       "      <td>Nadzab Airport</td>\n",
       "      <td>Nadzab</td>\n",
       "      <td>Papua New Guinea</td>\n",
       "      <td>LAE</td>\n",
       "      <td>AYNZ</td>\n",
       "      <td>-6.569803</td>\n",
       "      <td>146.725977</td>\n",
       "      <td>239</td>\n",
       "      <td>10</td>\n",
       "      <td>U</td>\n",
       "      <td>Pacific/Port_Moresby</td>\n",
       "      <td>airport</td>\n",
       "      <td>OurAirports</td>\n",
       "    </tr>\n",
       "    <tr>\n",
       "      <th>4</th>\n",
       "      <td>5</td>\n",
       "      <td>Port Moresby Jacksons International Airport</td>\n",
       "      <td>Port Moresby</td>\n",
       "      <td>Papua New Guinea</td>\n",
       "      <td>POM</td>\n",
       "      <td>AYPY</td>\n",
       "      <td>-9.443380</td>\n",
       "      <td>147.220001</td>\n",
       "      <td>146</td>\n",
       "      <td>10</td>\n",
       "      <td>U</td>\n",
       "      <td>Pacific/Port_Moresby</td>\n",
       "      <td>airport</td>\n",
       "      <td>OurAirports</td>\n",
       "    </tr>\n",
       "  </tbody>\n",
       "</table>\n",
       "</div>"
      ],
      "text/plain": [
       "   Airport ID                                         Name          City  \\\n",
       "0           1                               Goroka Airport        Goroka   \n",
       "1           2                               Madang Airport        Madang   \n",
       "2           3                 Mount Hagen Kagamuga Airport   Mount Hagen   \n",
       "3           4                               Nadzab Airport        Nadzab   \n",
       "4           5  Port Moresby Jacksons International Airport  Port Moresby   \n",
       "\n",
       "            Country IATA  ICAO  Latitude   Longitude  Altitude TimeZone DST  \\\n",
       "0  Papua New Guinea  GKA  AYGA -6.081690  145.391998      5282       10   U   \n",
       "1  Papua New Guinea  MAG  AYMD -5.207080  145.789002        20       10   U   \n",
       "2  Papua New Guinea  HGU  AYMH -5.826790  144.296005      5388       10   U   \n",
       "3  Papua New Guinea  LAE  AYNZ -6.569803  146.725977       239       10   U   \n",
       "4  Papua New Guinea  POM  AYPY -9.443380  147.220001       146       10   U   \n",
       "\n",
       "  Tz Database Time Zone     Type       Source  \n",
       "0  Pacific/Port_Moresby  airport  OurAirports  \n",
       "1  Pacific/Port_Moresby  airport  OurAirports  \n",
       "2  Pacific/Port_Moresby  airport  OurAirports  \n",
       "3  Pacific/Port_Moresby  airport  OurAirports  \n",
       "4  Pacific/Port_Moresby  airport  OurAirports  "
      ]
     },
     "execution_count": 4,
     "metadata": {},
     "output_type": "execute_result"
    }
   ],
   "source": [
    "airports_df.head(5)\n"
   ]
  },
  {
   "attachments": {},
   "cell_type": "markdown",
   "id": "5087ac97",
   "metadata": {},
   "source": [
    "### Derive country continents from new dataset"
   ]
  },
  {
   "cell_type": "code",
   "execution_count": 5,
   "id": "4f6b9f03",
   "metadata": {},
   "outputs": [],
   "source": [
    "# number of airports in each continent\n",
    "# find out how to derive continent\n",
    "continents = pd.read_csv('csv/continents.csv')\n",
    "continents\n",
    "# drop code and year attributes\n",
    "continents.drop(columns=['Code', 'Year'],inplace=True)\n",
    "\n",
    "\n",
    "# aggregate all airports in each continent"
   ]
  },
  {
   "attachments": {},
   "cell_type": "markdown",
   "id": "b46070f5",
   "metadata": {},
   "source": [
    "Certain country names do not match in the datasets so they must be normalized. To do this we must create a copy of the original dataframe and replace the unmatching countries with their continents. we end up with a mix of countries and continents in one column"
   ]
  },
  {
   "cell_type": "code",
   "execution_count": 6,
   "id": "39a4d060",
   "metadata": {},
   "outputs": [],
   "source": [
    "\n",
    "# # for each row in airports, check if country is equal to entity (continents), append continent to it\n",
    "temp_df = airports_df.copy()\n",
    "for country in temp_df['Country'].to_list():\n",
    "    for row in continents.values:\n",
    "        if country.lower() in row[0].lower():\n",
    "            temp_df['Country'] = temp_df['Country'].replace(\n",
    "                country, row[1])\n",
    "            break\n",
    "mixed_continents_and_countries = temp_df['Country'].unique()\n"
   ]
  },
  {
   "cell_type": "code",
   "execution_count": 7,
   "id": "bbbe385e",
   "metadata": {},
   "outputs": [
    {
     "data": {
      "text/plain": [
       "array(['Oceania', 'North America', 'Europe', 'Africa', 'South America',\n",
       "       'Faroe Islands', 'Congo (Brazzaville)', 'Congo (Kinshasa)',\n",
       "       'Swaziland', 'Asia', 'Czech Republic', 'Antarctica', 'West Bank',\n",
       "       'Midway Islands', 'Macau', 'Burma', 'East Timor', 'Johnston Atoll',\n",
       "       'Cocos (Keeling) Islands', 'Wake Island'], dtype=object)"
      ]
     },
     "execution_count": 7,
     "metadata": {},
     "output_type": "execute_result"
    }
   ],
   "source": [
    "mixed_continents_and_countries"
   ]
  },
  {
   "attachments": {},
   "cell_type": "markdown",
   "id": "030bb1ca",
   "metadata": {},
   "source": [
    "Next we must extract these countries into their own list"
   ]
  },
  {
   "cell_type": "code",
   "execution_count": 8,
   "id": "2f28360f",
   "metadata": {},
   "outputs": [
    {
     "data": {
      "text/plain": [
       "['Faroe Islands',\n",
       " 'Congo (Brazzaville)',\n",
       " 'Congo (Kinshasa)',\n",
       " 'Swaziland',\n",
       " 'Czech Republic',\n",
       " 'West Bank',\n",
       " 'Midway Islands',\n",
       " 'Macau',\n",
       " 'Burma',\n",
       " 'East Timor',\n",
       " 'Johnston Atoll',\n",
       " 'Cocos (Keeling) Islands',\n",
       " 'Wake Island']"
      ]
     },
     "execution_count": 8,
     "metadata": {},
     "output_type": "execute_result"
    }
   ],
   "source": [
    "unmatched_countries = []\n",
    "for country in mixed_continents_and_countries:\n",
    "    if country.lower() not in [x.lower() for x in continents['Continent'].to_list()]:\n",
    "        unmatched_countries.append(country)\n",
    "            \n",
    "unmatched_countries"
   ]
  },
  {
   "attachments": {},
   "cell_type": "markdown",
   "id": "0a4f678a",
   "metadata": {},
   "source": [
    "Finally, we create a copy of the original dataframe and replace the unmatched country names"
   ]
  },
  {
   "cell_type": "code",
   "execution_count": 9,
   "id": "bda71993",
   "metadata": {},
   "outputs": [],
   "source": [
    "new_country_names = airports_df.copy()\n",
    "\n",
    "for country in airports_df['Country'].to_list():\n",
    "    for x in unmatched_countries:\n",
    "        if x.lower() == country.lower():\n",
    "            new_country_names['Country'] = new_country_names['Country'].replace(x)"
   ]
  },
  {
   "attachments": {},
   "cell_type": "markdown",
   "id": "1c416ea2",
   "metadata": {},
   "source": [
    "Now we can finally add continent information to the dataset"
   ]
  },
  {
   "cell_type": "code",
   "execution_count": 10,
   "id": "cbee8181",
   "metadata": {},
   "outputs": [],
   "source": [
    "continents_list = []\n",
    "for country in new_country_names['Country'].to_list():\n",
    "    for row in continents.values:\n",
    "        if country.lower() in row[0].lower():\n",
    "            continents_list.append(row[1])\n",
    "            break\n",
    "new_country_names['Continent'] = continents_list\n",
    "airports_df = new_country_names\n",
    "# export to new csv\n",
    "airports_df.to_csv('csv/airports_continents.csv',index=False)"
   ]
  }
 ],
 "metadata": {
  "kernelspec": {
   "display_name": ".venv",
   "language": "python",
   "name": "python3"
  },
  "language_info": {
   "codemirror_mode": {
    "name": "ipython",
    "version": 3
   },
   "file_extension": ".py",
   "mimetype": "text/x-python",
   "name": "python",
   "nbconvert_exporter": "python",
   "pygments_lexer": "ipython3",
   "version": "3.8.2"
  },
  "toc-autonumbering": true,
  "vscode": {
   "interpreter": {
    "hash": "6649674334a5fd307c33279a4c6f15e49511d06c9d746283b23d193bb4f375b9"
   }
  }
 },
 "nbformat": 4,
 "nbformat_minor": 5
}
