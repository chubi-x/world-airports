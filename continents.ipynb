{
    "cells": [
        {
            "cell_type": "code",
            "execution_count": 12,
            "id": "7ae479c7-295d-4da1-b8f1-a40f6b51de34",
            "metadata": {
                "tags": []
            },
            "outputs": [],
            "source": [
                "import altair as alt\n",
                "import pandas as pd\n",
                "import numpy as np\n",
                "import re\n"
            ]
        },
        {
            "cell_type": "code",
            "execution_count": 13,
            "id": "cd571fb8-ffa5-419e-9002-290c9393ee09",
            "metadata": {
                "tags": []
            },
            "outputs": [],
            "source": [
                "airport_url = 'csv/airports.csv'\n",
                "airports_df = pd.read_csv(airport_url, encoding='latin-1')\n"
            ]
        },
        {
            "cell_type": "code",
            "execution_count": 14,
            "id": "19f5c4e4-68cc-4db8-8d22-675f9a5aea5e",
            "metadata": {
                "tags": []
            },
            "outputs": [
                {
                    "data": {
                        "text/html": [
                            "<div>\n",
                            "<style scoped>\n",
                            "    .dataframe tbody tr th:only-of-type {\n",
                            "        vertical-align: middle;\n",
                            "    }\n",
                            "\n",
                            "    .dataframe tbody tr th {\n",
                            "        vertical-align: top;\n",
                            "    }\n",
                            "\n",
                            "    .dataframe thead th {\n",
                            "        text-align: right;\n",
                            "    }\n",
                            "</style>\n",
                            "<table border=\"1\" class=\"dataframe\">\n",
                            "  <thead>\n",
                            "    <tr style=\"text-align: right;\">\n",
                            "      <th></th>\n",
                            "      <th>Airport ID</th>\n",
                            "      <th>Name</th>\n",
                            "      <th>City</th>\n",
                            "      <th>Country</th>\n",
                            "      <th>IATA</th>\n",
                            "      <th>ICAO</th>\n",
                            "      <th>Latitude</th>\n",
                            "      <th>Longitude</th>\n",
                            "      <th>Altitude</th>\n",
                            "      <th>TimeZone</th>\n",
                            "      <th>DST</th>\n",
                            "      <th>Tz Database Time Zone</th>\n",
                            "      <th>Type</th>\n",
                            "      <th>Source</th>\n",
                            "    </tr>\n",
                            "  </thead>\n",
                            "  <tbody>\n",
                            "    <tr>\n",
                            "      <th>0</th>\n",
                            "      <td>1</td>\n",
                            "      <td>Goroka Airport</td>\n",
                            "      <td>Goroka</td>\n",
                            "      <td>Papua New Guinea</td>\n",
                            "      <td>GKA</td>\n",
                            "      <td>AYGA</td>\n",
                            "      <td>-6.081690</td>\n",
                            "      <td>145.391998</td>\n",
                            "      <td>5282</td>\n",
                            "      <td>10</td>\n",
                            "      <td>U</td>\n",
                            "      <td>Pacific/Port_Moresby</td>\n",
                            "      <td>airport</td>\n",
                            "      <td>OurAirports</td>\n",
                            "    </tr>\n",
                            "    <tr>\n",
                            "      <th>1</th>\n",
                            "      <td>2</td>\n",
                            "      <td>Madang Airport</td>\n",
                            "      <td>Madang</td>\n",
                            "      <td>Papua New Guinea</td>\n",
                            "      <td>MAG</td>\n",
                            "      <td>AYMD</td>\n",
                            "      <td>-5.207080</td>\n",
                            "      <td>145.789002</td>\n",
                            "      <td>20</td>\n",
                            "      <td>10</td>\n",
                            "      <td>U</td>\n",
                            "      <td>Pacific/Port_Moresby</td>\n",
                            "      <td>airport</td>\n",
                            "      <td>OurAirports</td>\n",
                            "    </tr>\n",
                            "    <tr>\n",
                            "      <th>2</th>\n",
                            "      <td>3</td>\n",
                            "      <td>Mount Hagen Kagamuga Airport</td>\n",
                            "      <td>Mount Hagen</td>\n",
                            "      <td>Papua New Guinea</td>\n",
                            "      <td>HGU</td>\n",
                            "      <td>AYMH</td>\n",
                            "      <td>-5.826790</td>\n",
                            "      <td>144.296005</td>\n",
                            "      <td>5388</td>\n",
                            "      <td>10</td>\n",
                            "      <td>U</td>\n",
                            "      <td>Pacific/Port_Moresby</td>\n",
                            "      <td>airport</td>\n",
                            "      <td>OurAirports</td>\n",
                            "    </tr>\n",
                            "    <tr>\n",
                            "      <th>3</th>\n",
                            "      <td>4</td>\n",
                            "      <td>Nadzab Airport</td>\n",
                            "      <td>Nadzab</td>\n",
                            "      <td>Papua New Guinea</td>\n",
                            "      <td>LAE</td>\n",
                            "      <td>AYNZ</td>\n",
                            "      <td>-6.569803</td>\n",
                            "      <td>146.725977</td>\n",
                            "      <td>239</td>\n",
                            "      <td>10</td>\n",
                            "      <td>U</td>\n",
                            "      <td>Pacific/Port_Moresby</td>\n",
                            "      <td>airport</td>\n",
                            "      <td>OurAirports</td>\n",
                            "    </tr>\n",
                            "    <tr>\n",
                            "      <th>4</th>\n",
                            "      <td>5</td>\n",
                            "      <td>Port Moresby Jacksons International Airport</td>\n",
                            "      <td>Port Moresby</td>\n",
                            "      <td>Papua New Guinea</td>\n",
                            "      <td>POM</td>\n",
                            "      <td>AYPY</td>\n",
                            "      <td>-9.443380</td>\n",
                            "      <td>147.220001</td>\n",
                            "      <td>146</td>\n",
                            "      <td>10</td>\n",
                            "      <td>U</td>\n",
                            "      <td>Pacific/Port_Moresby</td>\n",
                            "      <td>airport</td>\n",
                            "      <td>OurAirports</td>\n",
                            "    </tr>\n",
                            "  </tbody>\n",
                            "</table>\n",
                            "</div>"
                        ],
                        "text/plain": [
                            "   Airport ID                                         Name          City  \\\n",
                            "0           1                               Goroka Airport        Goroka   \n",
                            "1           2                               Madang Airport        Madang   \n",
                            "2           3                 Mount Hagen Kagamuga Airport   Mount Hagen   \n",
                            "3           4                               Nadzab Airport        Nadzab   \n",
                            "4           5  Port Moresby Jacksons International Airport  Port Moresby   \n",
                            "\n",
                            "            Country IATA  ICAO  Latitude   Longitude  Altitude TimeZone DST  \\\n",
                            "0  Papua New Guinea  GKA  AYGA -6.081690  145.391998      5282       10   U   \n",
                            "1  Papua New Guinea  MAG  AYMD -5.207080  145.789002        20       10   U   \n",
                            "2  Papua New Guinea  HGU  AYMH -5.826790  144.296005      5388       10   U   \n",
                            "3  Papua New Guinea  LAE  AYNZ -6.569803  146.725977       239       10   U   \n",
                            "4  Papua New Guinea  POM  AYPY -9.443380  147.220001       146       10   U   \n",
                            "\n",
                            "  Tz Database Time Zone     Type       Source  \n",
                            "0  Pacific/Port_Moresby  airport  OurAirports  \n",
                            "1  Pacific/Port_Moresby  airport  OurAirports  \n",
                            "2  Pacific/Port_Moresby  airport  OurAirports  \n",
                            "3  Pacific/Port_Moresby  airport  OurAirports  \n",
                            "4  Pacific/Port_Moresby  airport  OurAirports  "
                        ]
                    },
                    "execution_count": 14,
                    "metadata": {},
                    "output_type": "execute_result"
                }
            ],
            "source": [
                "airports_df.head(5)\n"
            ]
        },
        {
            "attachments": {},
            "cell_type": "markdown",
            "id": "5087ac97",
            "metadata": {},
            "source": [
                "### Derive country continents from new dataset"
            ]
        },
        {
            "cell_type": "code",
            "execution_count": 15,
            "id": "4f6b9f03",
            "metadata": {},
            "outputs": [
                {
                    "data": {
                        "text/html": [
                            "<div>\n",
                            "<style scoped>\n",
                            "    .dataframe tbody tr th:only-of-type {\n",
                            "        vertical-align: middle;\n",
                            "    }\n",
                            "\n",
                            "    .dataframe tbody tr th {\n",
                            "        vertical-align: top;\n",
                            "    }\n",
                            "\n",
                            "    .dataframe thead th {\n",
                            "        text-align: right;\n",
                            "    }\n",
                            "</style>\n",
                            "<table border=\"1\" class=\"dataframe\">\n",
                            "  <thead>\n",
                            "    <tr style=\"text-align: right;\">\n",
                            "      <th></th>\n",
                            "      <th>Entity</th>\n",
                            "      <th>Continent</th>\n",
                            "    </tr>\n",
                            "  </thead>\n",
                            "  <tbody>\n",
                            "    <tr>\n",
                            "      <th>0</th>\n",
                            "      <td>Abkhazia</td>\n",
                            "      <td>Asia</td>\n",
                            "    </tr>\n",
                            "    <tr>\n",
                            "      <th>1</th>\n",
                            "      <td>Afghanistan</td>\n",
                            "      <td>Asia</td>\n",
                            "    </tr>\n",
                            "    <tr>\n",
                            "      <th>2</th>\n",
                            "      <td>Akrotiri and Dhekelia</td>\n",
                            "      <td>Asia</td>\n",
                            "    </tr>\n",
                            "    <tr>\n",
                            "      <th>3</th>\n",
                            "      <td>Albania</td>\n",
                            "      <td>Europe</td>\n",
                            "    </tr>\n",
                            "    <tr>\n",
                            "      <th>4</th>\n",
                            "      <td>Algeria</td>\n",
                            "      <td>Africa</td>\n",
                            "    </tr>\n",
                            "    <tr>\n",
                            "      <th>...</th>\n",
                            "      <td>...</td>\n",
                            "      <td>...</td>\n",
                            "    </tr>\n",
                            "    <tr>\n",
                            "      <th>280</th>\n",
                            "      <td>Yugoslavia</td>\n",
                            "      <td>Europe</td>\n",
                            "    </tr>\n",
                            "    <tr>\n",
                            "      <th>281</th>\n",
                            "      <td>Zambia</td>\n",
                            "      <td>Africa</td>\n",
                            "    </tr>\n",
                            "    <tr>\n",
                            "      <th>282</th>\n",
                            "      <td>Zanzibar</td>\n",
                            "      <td>Africa</td>\n",
                            "    </tr>\n",
                            "    <tr>\n",
                            "      <th>283</th>\n",
                            "      <td>Zimbabwe</td>\n",
                            "      <td>Africa</td>\n",
                            "    </tr>\n",
                            "    <tr>\n",
                            "      <th>284</th>\n",
                            "      <td>Åland Islands</td>\n",
                            "      <td>Europe</td>\n",
                            "    </tr>\n",
                            "  </tbody>\n",
                            "</table>\n",
                            "<p>285 rows × 2 columns</p>\n",
                            "</div>"
                        ],
                        "text/plain": [
                            "                    Entity Continent\n",
                            "0                 Abkhazia      Asia\n",
                            "1              Afghanistan      Asia\n",
                            "2    Akrotiri and Dhekelia      Asia\n",
                            "3                  Albania    Europe\n",
                            "4                  Algeria    Africa\n",
                            "..                     ...       ...\n",
                            "280             Yugoslavia    Europe\n",
                            "281                 Zambia    Africa\n",
                            "282               Zanzibar    Africa\n",
                            "283               Zimbabwe    Africa\n",
                            "284          Åland Islands    Europe\n",
                            "\n",
                            "[285 rows x 2 columns]"
                        ]
                    },
                    "execution_count": 15,
                    "metadata": {},
                    "output_type": "execute_result"
                }
            ],
            "source": [
                "# number of airports in each continent\n",
                "# find out how to derive continent\n",
                "continents = pd.read_csv('csv/continents.csv')\n",
                "continents\n",
                "# drop code and year attributes\n",
                "continents.drop(columns=['Code', 'Year'],inplace=True)\n",
                "continents\n",
                "# aggregate all airports in each continent"
            ]
        },
        {
            "attachments": {},
            "cell_type": "markdown",
            "id": "b46070f5",
            "metadata": {},
            "source": [
                "Certain country names do not match in the datasets so they must be normalized. To do this we must create a copy of the original dataframe and replace the unmatching countries with their continents. we end up with a mix of countries and continents in one column"
            ]
        },
        {
            "cell_type": "code",
            "execution_count": 18,
            "id": "39a4d060",
            "metadata": {},
            "outputs": [],
            "source": [
                "\n",
                "# # for each row in airports, check if country is equal to entity (continents), append continent to it\n",
                "from pandas import DataFrame\n",
                "\n",
                "\n",
                "temp_df = airports_df.copy()\n",
                "for country in temp_df['Country'].to_list():\n",
                "    for row in continents.values:\n",
                "        if country.lower() in row[0].lower():\n",
                "            temp_df['Country'] = temp_df['Country'].replace(\n",
                "                country, row[1])\n",
                "            break\n",
                "mixed_continents_and_countries = temp_df['Country'].unique()\n",
                "\n",
                "\n",
                "def normalize_country_names(df_to_be_normalized, reference_df):\n",
                "    # # for each row in df_to_be_normalized, check if country is equal to country in reference df\n",
                "    temp_df = df_to_be_normalized.copy()\n",
                "    for country in temp_df['Country'].to_list():\n",
                "        for row in reference_df.values:\n",
                "            if country.lower() in row[0].lower():\n",
                "                temp_df['Country'] = temp_df['Country'].replace(\n",
                "                    country, row[1])\n",
                "                break\n",
                "    mixed_continents_and_countries = temp_df['Country'].unique()\n",
                "    \n",
                "    # Next we must extract these countries into their own list\n",
                "    unmatched_countries = []\n",
                "    for country in mixed_continents_and_countries:\n",
                "        if country.lower() not in [x.lower() for x in reference_df['Continent'].to_list()]:\n",
                "            unmatched_countries.append(country)\n",
                "    \n",
                "    \n",
                "    # Finally, we create a copy of the original dataframe and replace the unmatched country names   \n",
                "    new_country_names = df_to_be_normalized.copy()\n",
                "\n",
                "    for country in df_to_be_normalized['Country'].to_list():\n",
                "        for x in unmatched_countries:\n",
                "            if x.lower() == country.lower():\n",
                "                new_country_names['Country'] = new_country_names['Country'].replace(x)\n",
                "    \n",
                "    # Now we can finally add continent information to the dataset     \n",
                "    continents_list = []\n",
                "    for country in new_country_names['Country'].to_list():\n",
                "        for row in continents.values:\n",
                "            if country.lower() in row[0].lower():\n",
                "                continents_list.append(row[1])\n",
                "                break\n",
                "    new_country_names['Continent'] = continents_list\n",
                "    df_to_be_normalized = new_country_names\n",
                "    # export to new csv\n",
                "    df_to_be_normalized.to_csv(f'csv/{df_to_be_normalized}-1.csv',index=False)\n"
            ]
        },
        {
            "cell_type": "code",
            "execution_count": 26,
            "id": "f3598677",
            "metadata": {},
            "outputs": [
                {
                    "data": {
                        "text/plain": [
                            "array(['Oceania', 'North America', 'Europe', 'Africa', 'South America',\n",
                            "       'Faroe Islands', 'Congo (Brazzaville)', 'Congo (Kinshasa)',\n",
                            "       'Swaziland', 'Asia', 'Czech Republic', 'Antarctica', 'West Bank',\n",
                            "       'Midway Islands', 'Macau', 'Burma', 'East Timor', 'Johnston Atoll',\n",
                            "       'Cocos (Keeling) Islands', 'Wake Island'], dtype=object)"
                        ]
                    },
                    "execution_count": 26,
                    "metadata": {},
                    "output_type": "execute_result"
                }
            ],
            "source": [
                "def normalize_country_names(df_to_be_normalized:DataFrame,reference_df:DataFrame,\n",
                "                            reference_df_country_column_name:str, reference_df_column:str\n",
                "                           ):\n",
                "    # copy df_to_be_normalized\n",
                "    temp_df = df_to_be_normalized.copy()\n",
                "    # replace unmatching countries with the column you want to add\n",
                "    for country in temp_df['Country'].to_list():\n",
                "        for index,row in reference_df.iterrows():\n",
                "            if country.lower() in row[reference_df_country_column_name].lower():\n",
                "                temp_df['Country'] = temp_df['Country'].replace(\n",
                "                    country, row[1])\n",
                "                break\n",
                "    mixed_country_row = temp_df['Country'].unique()\n",
                "    \n",
                "    \n",
                "    unmatched_countries = []\n",
                "    for country in mixed_continents_and_countries:\n",
                "        if country.lower() not in [x.lower() for x in reference_df['Continent'].to_list()]:\n",
                "            unmatched_countries.append(country)\n",
                "\n",
                "normalize_country_names(airports_df,continents,'Entity')"
            ]
        },
        {
            "cell_type": "code",
            "execution_count": null,
            "id": "bbbe385e",
            "metadata": {},
            "outputs": [
                {
                    "data": {
                        "text/plain": [
                            "array(['Oceania', 'North America', 'Europe', 'Africa', 'South America',\n",
                            "       'Faroe Islands', 'Congo (Brazzaville)', 'Congo (Kinshasa)',\n",
                            "       'Swaziland', 'Asia', 'Czech Republic', 'Antarctica', 'West Bank',\n",
                            "       'Midway Islands', 'Macau', 'Burma', 'East Timor', 'Johnston Atoll',\n",
                            "       'Cocos (Keeling) Islands', 'Wake Island'], dtype=object)"
                        ]
                    },
                    "execution_count": 7,
                    "metadata": {},
                    "output_type": "execute_result"
                }
            ],
            "source": [
                "mixed_continents_and_countries"
            ]
        },
        {
            "attachments": {},
            "cell_type": "markdown",
            "id": "030bb1ca",
            "metadata": {},
            "source": [
                "Next we must extract these countries into their own list"
            ]
        },
        {
            "cell_type": "code",
            "execution_count": null,
            "id": "2f28360f",
            "metadata": {},
            "outputs": [
                {
                    "data": {
                        "text/plain": [
                            "['Faroe Islands',\n",
                            " 'Congo (Brazzaville)',\n",
                            " 'Congo (Kinshasa)',\n",
                            " 'Swaziland',\n",
                            " 'Czech Republic',\n",
                            " 'West Bank',\n",
                            " 'Midway Islands',\n",
                            " 'Macau',\n",
                            " 'Burma',\n",
                            " 'East Timor',\n",
                            " 'Johnston Atoll',\n",
                            " 'Cocos (Keeling) Islands',\n",
                            " 'Wake Island']"
                        ]
                    },
                    "execution_count": 8,
                    "metadata": {},
                    "output_type": "execute_result"
                }
            ],
            "source": [
                "unmatched_countries = []\n",
                "for country in mixed_continents_and_countries:\n",
                "    if country.lower() not in [x.lower() for x in continents['Continent'].to_list()]:\n",
                "        unmatched_countries.append(country)\n",
                "            \n",
                "unmatched_countries"
            ]
        },
        {
            "attachments": {},
            "cell_type": "markdown",
            "id": "0a4f678a",
            "metadata": {},
            "source": [
                "Finally, we create a copy of the original dataframe and replace the unmatched country names"
            ]
        },
        {
            "cell_type": "code",
            "execution_count": null,
            "id": "bda71993",
            "metadata": {},
            "outputs": [],
            "source": [
                "new_country_names = airports_df.copy()\n",
                "\n",
                "for country in airports_df['Country'].to_list():\n",
                "    for x in unmatched_countries:\n",
                "        if x.lower() == country.lower():\n",
                "            new_country_names['Country'] = new_country_names['Country'].replace(x)"
            ]
        },
        {
            "attachments": {},
            "cell_type": "markdown",
            "id": "1c416ea2",
            "metadata": {},
            "source": [
                "Now we can finally add continent information to the dataset"
            ]
        },
        {
            "cell_type": "code",
            "execution_count": null,
            "id": "cbee8181",
            "metadata": {},
            "outputs": [],
            "source": [
                "continents_list = []\n",
                "for country in new_country_names['Country'].to_list():\n",
                "    for row in continents.values:\n",
                "        if country.lower() in row[0].lower():\n",
                "            continents_list.append(row[1])\n",
                "            break\n",
                "new_country_names['Continent'] = continents_list\n",
                "airports_df = new_country_names\n",
                "# export to new csv\n",
                "airports_df.to_csv('csv/airports_continents.csv',index=False)"
            ]
        },
        {
            "cell_type": "code",
            "execution_count": null,
            "id": "64ef6862",
            "metadata": {},
            "outputs": [],
            "source": []
        }
    ],
    "metadata": {
        "kernelspec": {
            "display_name": "Python 3.11.2 ('.venv': venv)",
            "language": "python",
            "name": "python3"
        },
        "language_info": {
            "codemirror_mode": {
                "name": "ipython",
                "version": 3
            },
            "file_extension": ".py",
            "mimetype": "text/x-python",
            "name": "python",
            "nbconvert_exporter": "python",
            "pygments_lexer": "ipython3",
            "version": "3.11.2"
        },
        "toc-autonumbering": true,
        "vscode": {
            "interpreter": {
                "hash": "f22bbf3800680fd8acd4cfe2738b3b688f7fe786a97be0f956740f017f6a46d9"
            }
        }
    },
    "nbformat": 4,
    "nbformat_minor": 5
}