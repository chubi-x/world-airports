{
 "cells": [
  {
   "cell_type": "code",
   "execution_count": 1,
   "id": "701d0347",
   "metadata": {},
   "outputs": [],
   "source": [
    "#Name, Lane, Role, Win Rate, Counterpick\n",
    "characters = [\n",
    "    \n",
    "    #Tops\n",
    "    [\"Tryndamere\", \"Top\", 49, \"Karthus\"],\n",
    "    [\"Sion\", \"Top\", 45, \"Teemo\"],\n",
    "    [\"Gangplank\", \"Top\", 52, \"Darius\"],\n",
    "    [\"Teemo\", \"Top\", 49, \"Soraka\"],\n",
    "    [\"Kayle\", \"Top\", 50, \"Darius\"],\n",
    "    [\"Darius\", \"Top\", 53, \"Teemo\"],\n",
    "    [\"Garen\", \"Top\", 48, \"Darius\"],\n",
    "    [\"Nasus\", \"Top\", 49, \"Teemo\"],\n",
    "    [\"Quinn\", \"Top\", 53, \"Rammus\"],\n",
    "    [\"Sett\", \"Top\", 50, \"Tryndamere\"],\n",
    "    [\"ChoGath\", \"Top\", 48, \"Sett\"],\n",
    "    \n",
    "    \n",
    "    #Junglers\n",
    "    [\"Karthus\", \"Jng\", 54, \"Sion\"],\n",
    "    [\"Lee Sin\", \"Jng\", 50, \"Udyr\"],\n",
    "    [\"Udyr\", \"Jng\", 58, \"Janna\"],\n",
    "    [\"Rammus\", \"Jng\", 49, \"Brand\"],\n",
    "    [\"Master Yi\", \"Jng\", 53, \"Rammus\"],\n",
    "    \n",
    "    #Mids\n",
    "    [\"Veigar\", \"Mid\", 48, \"Zed\"],\n",
    "    [\"Zed\", \"Mid\", 50, \"Diana\"],\n",
    "    [\"Diana\", \"Mid\", 49, \"Janna\"],\n",
    "    [\"Ekko\", \"Mid\", 50, \"Galio\"],\n",
    "    [\"Galio\", \"Mid\", 51, \"Nasus\"],\n",
    "    [\"Talon\", \"Mid\", 49, \"Malphite\"],\n",
    "    [\"Yasuo\", \"Mid\", 50, \"Rammus\"],\n",
    "    \n",
    "    #Bots\n",
    "    [\"Miss Fortune\", \"Bot\", 50, \"Xerath\"],\n",
    "    [\"Caitlyn\", \"Bot\", 51, \"Sivir\"],\n",
    "    [\"Sivir\", \"Bot\", 49, \"Soraka\"],\n",
    "    [\"Draven\", \"Bot\", 48, \"KaiSa\"],\n",
    "    [\"KaiSa\", \"Bot\", 53, \"Caitlyn\"],\n",
    "    \n",
    "    \n",
    "    #Supports\n",
    "    [\"Zyra\", \"Sup\", 52, \"VelKoz\"],\n",
    "    [\"VelKoz\", \"Sup\", 54, \"Soraka\"],\n",
    "    [\"Soraka\", \"Sup\", 59, \"Leona\"],\n",
    "    [\"Leona\", \"Sup\", 50, \"Morgana\"],\n",
    "    [\"Morgana\", \"Sup\", 44, \"Zyra\"],\n",
    "    [\"Xerath\", \"Sup\", 50, \"Soraka\"],\n",
    "    [\"Janna\", \"Sup\", 48, \"Gangplank\"],\n",
    "    [\"Thresh\", \"Sup\", 50, \"Caitlyn\"],\n",
    "    [\"Blitzcrank\", \"Sup\", 51, \"Leona\"],\n",
    "    [\"Nautilus\", \"Sup\", 50, \"Morgana\"],\n",
    "    [\"Brand\", \"Sup\", 52, \"VelKoz\"],\n",
    "    [\"Yuuumi\", \"Sup\", 44, \"Leona\"],\n",
    "]"
   ]
  },
  {
   "cell_type": "code",
   "execution_count": 7,
   "id": "c3ea604d",
   "metadata": {},
   "outputs": [
    {
     "name": "stdout",
     "output_type": "stream",
     "text": [
      "Which role do you want to find?Top\n"
     ]
    },
    {
     "data": {
      "text/plain": [
       "[['Tryndamere', 'Top', 49, 'Karthus'],\n",
       " ['Sion', 'Top', 45, 'Teemo'],\n",
       " ['Gangplank', 'Top', 52, 'Darius'],\n",
       " ['Teemo', 'Top', 49, 'Soraka'],\n",
       " ['Kayle', 'Top', 50, 'Darius'],\n",
       " ['Darius', 'Top', 53, 'Teemo'],\n",
       " ['Garen', 'Top', 48, 'Darius'],\n",
       " ['Nasus', 'Top', 49, 'Teemo'],\n",
       " ['Quinn', 'Top', 53, 'Rammus'],\n",
       " ['Sett', 'Top', 50, 'Tryndamere'],\n",
       " ['ChoGath', 'Top', 48, 'Sett']]"
      ]
     },
     "execution_count": 7,
     "metadata": {},
     "output_type": "execute_result"
    }
   ],
   "source": [
    "#Find just the champs with a particular role\n",
    "def find_role(role):\n",
    "    output = []\n",
    "    for character in characters:\n",
    "        if character[1] == role:\n",
    "            output.append(character)\n",
    "    return(output)\n",
    "\n",
    "#find_role(\"Sup\")\n",
    "\n",
    "inp = input(\"Which role do you want to find?\")\n",
    "find_role(inp)"
   ]
  },
  {
   "cell_type": "code",
   "execution_count": 3,
   "id": "87a00406",
   "metadata": {},
   "outputs": [
    {
     "data": {
      "text/plain": [
       "[['Teemo', 'Top', 49, 'Soraka'],\n",
       " ['Sivir', 'Bot', 49, 'Soraka'],\n",
       " ['VelKoz', 'Sup', 54, 'Soraka'],\n",
       " ['Xerath', 'Sup', 50, 'Soraka']]"
      ]
     },
     "execution_count": 3,
     "metadata": {},
     "output_type": "execute_result"
    }
   ],
   "source": [
    "#Finding the champions we have a good matchup against\n",
    "def good_matchups(champName):\n",
    "    output = []\n",
    "    for character in characters:\n",
    "        if character[3] == champName:\n",
    "            output.append(character)\n",
    "    return(output)\n",
    "\n",
    "good_matchups(\"Soraka\")"
   ]
  },
  {
   "cell_type": "code",
   "execution_count": 4,
   "id": "19e6a5da",
   "metadata": {},
   "outputs": [
    {
     "name": "stdout",
     "output_type": "stream",
     "text": [
      "[['Sion', 'Top', 45, 'Teemo'], ['Darius', 'Top', 53, 'Teemo'], ['Nasus', 'Top', 49, 'Teemo']]\n",
      "[['Caitlyn', 'Bot', 51, 'Sivir']]\n",
      "[['Zyra', 'Sup', 52, 'VelKoz'], ['Brand', 'Sup', 52, 'VelKoz']]\n",
      "[['Miss Fortune', 'Bot', 50, 'Xerath']]\n"
     ]
    }
   ],
   "source": [
    "#Second order synergy - we counter their counter\n",
    "matches = good_matchups(\"Soraka\")\n",
    "for match in matches:\n",
    "    print(good_matchups(match[0]))"
   ]
  },
  {
   "cell_type": "code",
   "execution_count": 5,
   "id": "b377ac6f",
   "metadata": {},
   "outputs": [
    {
     "name": "stdout",
     "output_type": "stream",
     "text": [
      "[[['Karthus', 'Jng', 54, 'Sion']], [['Gangplank', 'Top', 52, 'Darius'], ['Kayle', 'Top', 50, 'Darius'], ['Garen', 'Top', 48, 'Darius']], [['Galio', 'Mid', 51, 'Nasus']], [['KaiSa', 'Bot', 53, 'Caitlyn'], ['Thresh', 'Sup', 50, 'Caitlyn']], [['Morgana', 'Sup', 44, 'Zyra']], [['Rammus', 'Jng', 49, 'Brand']], []]\n"
     ]
    }
   ],
   "source": [
    "#Third order synergy - we counter a counter to their counter\n",
    "total_list = []\n",
    "matches = good_matchups(\"Soraka\")\n",
    "for match in matches:\n",
    "    m2 = good_matchups(match[0])\n",
    "    for m in m2:\n",
    "        thing = good_matchups(m[0])\n",
    "        if thing not in total_list:\n",
    "            total_list.append(thing)\n",
    "print(total_list)"
   ]
  },
  {
   "cell_type": "code",
   "execution_count": null,
   "id": "09836379",
   "metadata": {},
   "outputs": [],
   "source": []
  }
 ],
 "metadata": {
  "kernelspec": {
   "display_name": "Python 3 (ipykernel)",
   "language": "python",
   "name": "python3"
  },
  "language_info": {
   "codemirror_mode": {
    "name": "ipython",
    "version": 3
   },
   "file_extension": ".py",
   "mimetype": "text/x-python",
   "name": "python",
   "nbconvert_exporter": "python",
   "pygments_lexer": "ipython3",
   "version": "3.9.12"
  }
 },
 "nbformat": 4,
 "nbformat_minor": 5
}
